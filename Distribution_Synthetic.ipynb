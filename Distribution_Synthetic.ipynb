{
 "cells": [
  {
   "cell_type": "code",
   "execution_count": 1,
   "id": "797cc1c7",
   "metadata": {},
   "outputs": [],
   "source": [
    "import gately\n",
    "import shapley\n",
    "import numpy as np\n",
    "import random\n",
    "import timeit\n",
    "import shap"
   ]
  },
  {
   "cell_type": "code",
   "execution_count": 2,
   "id": "a7d91a26",
   "metadata": {},
   "outputs": [
    {
     "name": "stderr",
     "output_type": "stream",
     "text": [
      "Function load_boston is deprecated; `load_boston` is deprecated in 1.0 and will be removed in 1.2.\n",
      "\n",
      "    The Boston housing prices dataset has an ethical problem. You can refer to\n",
      "    the documentation of this function for further details.\n",
      "\n",
      "    The scikit-learn maintainers therefore strongly discourage the use of this\n",
      "    dataset unless the purpose of the code is to study and educate about\n",
      "    ethical issues in data science and machine learning.\n",
      "\n",
      "    In this special case, you can fetch the dataset from the original\n",
      "    source::\n",
      "\n",
      "        import pandas as pd\n",
      "        import numpy as np\n",
      "\n",
      "        data_url = \"http://lib.stat.cmu.edu/datasets/boston\"\n",
      "        raw_df = pd.read_csv(data_url, sep=\"\\s+\", skiprows=22, header=None)\n",
      "        data = np.hstack([raw_df.values[::2, :], raw_df.values[1::2, :2]])\n",
      "        target = raw_df.values[1::2, 2]\n",
      "\n",
      "    Alternative datasets include the California housing dataset (i.e.\n",
      "    :func:`~sklearn.datasets.fetch_california_housing`) and the Ames housing\n",
      "    dataset. You can load the datasets as follows::\n",
      "\n",
      "        from sklearn.datasets import fetch_california_housing\n",
      "        housing = fetch_california_housing()\n",
      "\n",
      "    for the California housing dataset and::\n",
      "\n",
      "        from sklearn.datasets import fetch_openml\n",
      "        housing = fetch_openml(name=\"house_prices\", as_frame=True)\n",
      "\n",
      "    for the Ames housing dataset.\n"
     ]
    }
   ],
   "source": [
    "X, y = shap.datasets.boston()\n",
    "X = X.values"
   ]
  },
  {
   "cell_type": "code",
   "execution_count": 3,
   "id": "0e08fb36",
   "metadata": {},
   "outputs": [
    {
     "data": {
      "text/plain": [
       "0.886203277377512"
      ]
     },
     "execution_count": 3,
     "metadata": {},
     "output_type": "execute_result"
    }
   ],
   "source": [
    "from sklearn.ensemble import RandomForestRegressor\n",
    "from sklearn.model_selection import train_test_split\n",
    "import xgboost\n",
    "\n",
    "X_train, X_test, y_train, y_test = train_test_split(X, y, test_size=0.4)\n",
    "\n",
    "regr = xgboost.XGBRegressor().fit(X_train, y_train)\n",
    "regr.fit(X_train, y_train)\n",
    "regr.score(X_test,y_test)"
   ]
  },
  {
   "cell_type": "code",
   "execution_count": 4,
   "id": "def1e840",
   "metadata": {},
   "outputs": [],
   "source": [
    "datas = []\n",
    "for i in range(1000):\n",
    "    data = []\n",
    "    pop = random.uniform(-1,1)\n",
    "    data.append(pop)\n",
    "    data.append(pop*0.2)\n",
    "    data.append(pop*0.6)\n",
    "    data.append(pop*2)\n",
    "    data.append(pop*5)\n",
    "    for i in range(0,2):\n",
    "        data.append(random.uniform(-1,1))\n",
    "    datas.append(data)\n",
    "datas = np.asarray(datas)"
   ]
  },
  {
   "cell_type": "code",
   "execution_count": 5,
   "id": "6c8e8e74",
   "metadata": {},
   "outputs": [],
   "source": [
    "def f_simple(x):\n",
    "    # Complex coincedation of the Shapley value and the Gately Point \n",
    "    return x[:,0] + 2*(x[:,2]) + 0.8*x[:,1] - 0.5*(x[:,3]) + 0.2*x[:,4] + 2*(x[:,4]) + 3*x[:,5] +6*(x[:,6])"
   ]
  },
  {
   "cell_type": "code",
   "execution_count": 6,
   "id": "2b99d4e5",
   "metadata": {},
   "outputs": [],
   "source": [
    "att_shap, dist_shap = shapley.shapley_int_distribution(f_simple,datas[0],datas[1])"
   ]
  },
  {
   "cell_type": "code",
   "execution_count": 7,
   "id": "c47411a7",
   "metadata": {},
   "outputs": [
    {
     "data": {
      "text/plain": [
       "{0: array([-0.62560519]),\n",
       " 1: array([-0.10009683]),\n",
       " 2: array([-0.75072623]),\n",
       " 3: array([0.62560519]),\n",
       " 4: array([-6.88165712]),\n",
       " 5: array([-0.45858968]),\n",
       " 6: array([6.81254463])}"
      ]
     },
     "execution_count": 7,
     "metadata": {},
     "output_type": "execute_result"
    }
   ],
   "source": [
    "att_shap"
   ]
  },
  {
   "cell_type": "code",
   "execution_count": 8,
   "id": "92b75c63",
   "metadata": {},
   "outputs": [],
   "source": [
    "att_gately, dist_gately = gately.Gately_distribution(datas[0],datas[1],f_simple)"
   ]
  },
  {
   "cell_type": "code",
   "execution_count": 9,
   "id": "eec7970f",
   "metadata": {},
   "outputs": [
    {
     "data": {
      "text/plain": [
       "{0: array([-0.62560519]),\n",
       " 1: array([-0.10009683]),\n",
       " 2: array([-0.75072623]),\n",
       " 3: array([0.62560519]),\n",
       " 4: array([-6.88165712]),\n",
       " 5: array([-0.45858968]),\n",
       " 6: array([6.81254463])}"
      ]
     },
     "execution_count": 9,
     "metadata": {},
     "output_type": "execute_result"
    }
   ],
   "source": [
    "att_gately"
   ]
  },
  {
   "cell_type": "code",
   "execution_count": 10,
   "id": "09e35c26",
   "metadata": {},
   "outputs": [],
   "source": [
    "matches = 0\n",
    "distributions_shap = []\n",
    "distributions_gately = []\n",
    "for ind in range(0,20):\n",
    "    att_shap, dist_shap = shapley.shapley_int_distribution(f_simple,datas[ind],datas[ind+1])\n",
    "    att_gately, dist_gately = gately.Gately_distribution(datas[ind],datas[ind+1],f_simple)\n",
    "\n",
    "    tick = 0\n",
    "    for i,j in zip(att_shap.values(),att_gately.values()):\n",
    "        if round(i[0],2) != round(j[0],2):\n",
    "            tick = 1\n",
    "    if tick == 0:\n",
    "        matches += 1\n",
    "    \n",
    "    distributions_shap.append(dist_shap)\n",
    "    distributions_gately.append(dist_gately)\n",
    "        \n",
    "distributions_shap = np.asarray(distributions_shap)\n",
    "distributions_gately = np.asarray(distributions_gately)\n",
    "distributions_shap = distributions_shap.reshape(-1,distributions_shap.shape[2])\n",
    "distributions_gately = distributions_gately.reshape(-1,distributions_gately.shape[2])"
   ]
  },
  {
   "cell_type": "code",
   "execution_count": 11,
   "id": "210ac1c4",
   "metadata": {},
   "outputs": [
    {
     "name": "stdout",
     "output_type": "stream",
     "text": [
      "1.0\n"
     ]
    }
   ],
   "source": [
    "print(matches/20)"
   ]
  },
  {
   "cell_type": "code",
   "execution_count": 12,
   "id": "ac85f022",
   "metadata": {},
   "outputs": [],
   "source": [
    "scores_gately = []\n",
    "scores_shap = []\n",
    "\n",
    "for i in range(1,100):\n",
    "    new_X = np.concatenate([distributions_gately[0:200],datas[0:200]])\n",
    "    new_Y = np.concatenate([np.zeros(200),np.ones(200)])\n",
    "    from sklearn.ensemble import RandomForestClassifier\n",
    "    from sklearn.model_selection import train_test_split\n",
    "\n",
    "    X_train, X_test, y_train, y_test = train_test_split(new_X, new_Y, test_size=0.5)\n",
    "\n",
    "    regr = RandomForestClassifier(n_estimators=i, random_state=0)\n",
    "    regr.fit(X_train, y_train)\n",
    "    scores_gately.append(regr.score(X_test,y_test))\n",
    "\n",
    "    new_X = np.concatenate([distributions_shap[0:200],datas[0:200]])\n",
    "    new_Y = np.concatenate([np.zeros(200),np.ones(200)])\n",
    "\n",
    "    X_train, X_test, y_train, y_test = train_test_split(new_X, new_Y, test_size=0.5)\n",
    "\n",
    "    regr = RandomForestClassifier(n_estimators=i, random_state=0)\n",
    "    regr.fit(X_train, y_train)\n",
    "    scores_shap.append(regr.score(X_test,y_test))\n"
   ]
  },
  {
   "cell_type": "code",
   "execution_count": 13,
   "id": "3d52e621",
   "metadata": {},
   "outputs": [
    {
     "data": {
      "image/png": "[encoded data removed]",
      "text/plain": [
       "<Figure size 640x480 with 1 Axes>"
      ]
     },
     "metadata": {},
     "output_type": "display_data"
    }
   ],
   "source": [
    "import matplotlib.pyplot as plt\n",
    "\n",
    "depth = np.arange(1,100)\n",
    "plt.plot(depth, scores_gately)\n",
    "plt.plot(depth, scores_shap)\n",
    "plt.ylabel('Accuracy Score')\n",
    "plt.xlabel('Number of Trees')\n",
    "plt.grid(alpha=0.3)\n",
    "plt.savefig('distribution_synthetic.pdf')"
   ]
  },
  {
   "cell_type": "code",
   "execution_count": 14,
   "id": "b9ab2995",
   "metadata": {},
   "outputs": [
    {
     "data": {
      "text/plain": [
       "1.0"
      ]
     },
     "execution_count": 14,
     "metadata": {},
     "output_type": "execute_result"
    }
   ],
   "source": [
    "X = np.concatenate([distributions_shap[0:140],datas[0:140]])\n",
    "Y = np.concatenate([np.zeros(140),np.ones(140)])\n",
    "from sklearn.ensemble import RandomForestClassifier\n",
    "from sklearn.model_selection import train_test_split\n",
    "\n",
    "X_train, X_test, y_train, y_test = train_test_split(X, Y, test_size=0.2)\n",
    "\n",
    "regr = RandomForestClassifier(max_depth=1, random_state=0)\n",
    "regr.fit(X_train, y_train)\n",
    "regr.score(X_test,y_test)"
   ]
  },
  {
   "cell_type": "code",
   "execution_count": null,
   "id": "d92476e5",
   "metadata": {},
   "outputs": [],
   "source": []
  },
  {
   "cell_type": "code",
   "execution_count": null,
   "id": "8f07e777",
   "metadata": {},
   "outputs": [],
   "source": []
  }
 ],
 "metadata": {
  "kernelspec": {
   "display_name": "Python 3 (ipykernel)",
   "language": "python",
   "name": "python3"
  },
  "language_info": {
   "codemirror_mode": {
    "name": "ipython",
    "version": 3
   },
   "file_extension": ".py",
   "mimetype": "text/x-python",
   "name": "python",
   "nbconvert_exporter": "python",
   "pygments_lexer": "ipython3",
   "version": "3.10.6"
  }
 },
 "nbformat": 4,
 "nbformat_minor": 5
}
