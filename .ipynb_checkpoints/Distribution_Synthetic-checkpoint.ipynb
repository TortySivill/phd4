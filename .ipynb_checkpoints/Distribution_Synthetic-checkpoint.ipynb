{
 "cells": [
  {
   "cell_type": "code",
   "execution_count": 14,
   "id": "797cc1c7",
   "metadata": {},
   "outputs": [],
   "source": [
    "import gately\n",
    "import shapley\n",
    "import numpy as np\n",
    "import random\n",
    "import timeit\n",
    "import shap"
   ]
  },
  {
   "cell_type": "code",
   "execution_count": 15,
   "id": "a7d91a26",
   "metadata": {},
   "outputs": [
    {
     "name": "stderr",
     "output_type": "stream",
     "text": [
      "Function load_boston is deprecated; `load_boston` is deprecated in 1.0 and will be removed in 1.2.\n",
      "\n",
      "    The Boston housing prices dataset has an ethical problem. You can refer to\n",
      "    the documentation of this function for further details.\n",
      "\n",
      "    The scikit-learn maintainers therefore strongly discourage the use of this\n",
      "    dataset unless the purpose of the code is to study and educate about\n",
      "    ethical issues in data science and machine learning.\n",
      "\n",
      "    In this special case, you can fetch the dataset from the original\n",
      "    source::\n",
      "\n",
      "        import pandas as pd\n",
      "        import numpy as np\n",
      "\n",
      "        data_url = \"http://lib.stat.cmu.edu/datasets/boston\"\n",
      "        raw_df = pd.read_csv(data_url, sep=\"\\s+\", skiprows=22, header=None)\n",
      "        data = np.hstack([raw_df.values[::2, :], raw_df.values[1::2, :2]])\n",
      "        target = raw_df.values[1::2, 2]\n",
      "\n",
      "    Alternative datasets include the California housing dataset (i.e.\n",
      "    :func:`~sklearn.datasets.fetch_california_housing`) and the Ames housing\n",
      "    dataset. You can load the datasets as follows::\n",
      "\n",
      "        from sklearn.datasets import fetch_california_housing\n",
      "        housing = fetch_california_housing()\n",
      "\n",
      "    for the California housing dataset and::\n",
      "\n",
      "        from sklearn.datasets import fetch_openml\n",
      "        housing = fetch_openml(name=\"house_prices\", as_frame=True)\n",
      "\n",
      "    for the Ames housing dataset.\n"
     ]
    }
   ],
   "source": [
    "X, y = shap.datasets.boston()\n",
    "X = X.values"
   ]
  },
  {
   "cell_type": "code",
   "execution_count": 16,
   "id": "0e08fb36",
   "metadata": {},
   "outputs": [
    {
     "data": {
      "text/plain": [
       "0.8964398998446917"
      ]
     },
     "execution_count": 16,
     "metadata": {},
     "output_type": "execute_result"
    }
   ],
   "source": [
    "from sklearn.ensemble import RandomForestRegressor\n",
    "from sklearn.model_selection import train_test_split\n",
    "import xgboost\n",
    "\n",
    "X_train, X_test, y_train, y_test = train_test_split(X, y, test_size=0.4)\n",
    "\n",
    "regr = xgboost.XGBRegressor().fit(X_train, y_train)\n",
    "regr.fit(X_train, y_train)\n",
    "regr.score(X_test,y_test)"
   ]
  },
  {
   "cell_type": "code",
   "execution_count": 135,
   "id": "def1e840",
   "metadata": {},
   "outputs": [],
   "source": [
    "datas = []\n",
    "for i in range(10000):\n",
    "    data = []\n",
    "    #data.append(random.uniform(-1,1))\n",
    "    for i in range(0,7):\n",
    "        data.append(random.uniform(-10,10))\n",
    "    datas.append(data)\n",
    "datas = np.asarray(datas)"
   ]
  },
  {
   "cell_type": "code",
   "execution_count": 136,
   "id": "6c8e8e74",
   "metadata": {},
   "outputs": [],
   "source": [
    "def f_simple(x):\n",
    "    # Complex coincedation of the Shapley value and the Gately Point \n",
    "    return x[:,0] + 2*(x[:,2]) + 0.8*x[:,1] - 0.5*(x[:,3]) + 0.2*x[:,4] + 2*(x[:,4]) + 3*x[:,5] +6*(x[:,6])"
   ]
  },
  {
   "cell_type": "code",
   "execution_count": 17,
   "id": "2b99d4e5",
   "metadata": {},
   "outputs": [
    {
     "ename": "KeyboardInterrupt",
     "evalue": "",
     "output_type": "error",
     "traceback": [
      "\u001b[0;31m---------------------------------------------------------------------------\u001b[0m",
      "\u001b[0;31mKeyboardInterrupt\u001b[0m                         Traceback (most recent call last)",
      "Input \u001b[0;32mIn [17]\u001b[0m, in \u001b[0;36m<cell line: 1>\u001b[0;34m()\u001b[0m\n\u001b[0;32m----> 1\u001b[0m att_shap, dist_shap \u001b[38;5;241m=\u001b[39m \u001b[43mshapley\u001b[49m\u001b[38;5;241;43m.\u001b[39;49m\u001b[43mshapley_int_distribution\u001b[49m\u001b[43m(\u001b[49m\u001b[43mregr\u001b[49m\u001b[38;5;241;43m.\u001b[39;49m\u001b[43mpredict\u001b[49m\u001b[43m,\u001b[49m\u001b[43mX_test\u001b[49m\u001b[43m[\u001b[49m\u001b[38;5;241;43m0\u001b[39;49m\u001b[43m]\u001b[49m\u001b[43m,\u001b[49m\u001b[43mX_test\u001b[49m\u001b[43m[\u001b[49m\u001b[38;5;241;43m1\u001b[39;49m\u001b[43m]\u001b[49m\u001b[43m)\u001b[49m\n",
      "File \u001b[0;32m~/Downloads/phd/projects/compromise/counterfactual/shapley.py:136\u001b[0m, in \u001b[0;36mshapley_int_distribution\u001b[0;34m(f, x, z)\u001b[0m\n\u001b[1;32m    133\u001b[0m S \u001b[38;5;241m=\u001b[39m \u001b[38;5;28mlist\u001b[39m(i[:feature_index])\n\u001b[1;32m    134\u001b[0m S_bar \u001b[38;5;241m=\u001b[39m \u001b[38;5;28mlist\u001b[39m(i[feature_index\u001b[38;5;241m+\u001b[39m\u001b[38;5;241m1\u001b[39m:])\n\u001b[0;32m--> 136\u001b[0m temp_value, sample1, sample2 \u001b[38;5;241m=\u001b[39m \u001b[43mvalue_marg_distribution\u001b[49m\u001b[43m(\u001b[49m\u001b[43mf\u001b[49m\u001b[43m,\u001b[49m\u001b[43mS\u001b[49m\u001b[43m,\u001b[49m\u001b[43mS_bar\u001b[49m\u001b[43m,\u001b[49m\u001b[43mx\u001b[49m\u001b[43m,\u001b[49m\u001b[43mz\u001b[49m\u001b[43m,\u001b[49m\u001b[43mfeature_value\u001b[49m\u001b[43m)\u001b[49m\n\u001b[1;32m    137\u001b[0m perm_value \u001b[38;5;241m+\u001b[39m\u001b[38;5;241m=\u001b[39m temp_value\n\u001b[1;32m    138\u001b[0m \u001b[38;5;28;01mif\u001b[39;00m np\u001b[38;5;241m.\u001b[39marray_equal(sample1,x) \u001b[38;5;129;01mor\u001b[39;00m np\u001b[38;5;241m.\u001b[39marray_equal(sample1,z):\n",
      "File \u001b[0;32m~/Downloads/phd/projects/compromise/counterfactual/shapley.py:78\u001b[0m, in \u001b[0;36mvalue_marg_distribution\u001b[0;34m(f, S, S_bar, x, z, feature_value)\u001b[0m\n\u001b[1;32m     75\u001b[0m without_i \u001b[38;5;241m=\u001b[39m xs\u001b[38;5;241m.\u001b[39mcopy()\n\u001b[1;32m     76\u001b[0m without_i[feature_value] \u001b[38;5;241m=\u001b[39m z[feature_value]\n\u001b[0;32m---> 78\u001b[0m \u001b[38;5;28;01mreturn\u001b[39;00m \u001b[43mf\u001b[49m\u001b[43m(\u001b[49m\u001b[43mnp\u001b[49m\u001b[38;5;241;43m.\u001b[39;49m\u001b[43masarray\u001b[49m\u001b[43m(\u001b[49m\u001b[43mwith_i\u001b[49m\u001b[43m)\u001b[49m\u001b[38;5;241;43m.\u001b[39;49m\u001b[43mreshape\u001b[49m\u001b[43m(\u001b[49m\u001b[38;5;241;43m1\u001b[39;49m\u001b[43m,\u001b[49m\u001b[38;5;241;43m-\u001b[39;49m\u001b[38;5;241;43m1\u001b[39;49m\u001b[43m)\u001b[49m\u001b[43m)\u001b[49m \u001b[38;5;241m-\u001b[39m f(np\u001b[38;5;241m.\u001b[39masarray(without_i)\u001b[38;5;241m.\u001b[39mreshape(\u001b[38;5;241m1\u001b[39m,\u001b[38;5;241m-\u001b[39m\u001b[38;5;241m1\u001b[39m)), np\u001b[38;5;241m.\u001b[39masarray(with_i), np\u001b[38;5;241m.\u001b[39masarray(without_i)\n",
      "File \u001b[0;32m~/miniforge3/lib/python3.10/site-packages/xgboost/sklearn.py:1114\u001b[0m, in \u001b[0;36mXGBModel.predict\u001b[0;34m(self, X, output_margin, ntree_limit, validate_features, base_margin, iteration_range)\u001b[0m\n\u001b[1;32m   1112\u001b[0m \u001b[38;5;28;01mif\u001b[39;00m \u001b[38;5;28mself\u001b[39m\u001b[38;5;241m.\u001b[39m_can_use_inplace_predict():\n\u001b[1;32m   1113\u001b[0m     \u001b[38;5;28;01mtry\u001b[39;00m:\n\u001b[0;32m-> 1114\u001b[0m         predts \u001b[38;5;241m=\u001b[39m \u001b[38;5;28;43mself\u001b[39;49m\u001b[38;5;241;43m.\u001b[39;49m\u001b[43mget_booster\u001b[49m\u001b[43m(\u001b[49m\u001b[43m)\u001b[49m\u001b[38;5;241;43m.\u001b[39;49m\u001b[43minplace_predict\u001b[49m\u001b[43m(\u001b[49m\n\u001b[1;32m   1115\u001b[0m \u001b[43m            \u001b[49m\u001b[43mdata\u001b[49m\u001b[38;5;241;43m=\u001b[39;49m\u001b[43mX\u001b[49m\u001b[43m,\u001b[49m\n\u001b[1;32m   1116\u001b[0m \u001b[43m            \u001b[49m\u001b[43miteration_range\u001b[49m\u001b[38;5;241;43m=\u001b[39;49m\u001b[43miteration_range\u001b[49m\u001b[43m,\u001b[49m\n\u001b[1;32m   1117\u001b[0m \u001b[43m            \u001b[49m\u001b[43mpredict_type\u001b[49m\u001b[38;5;241;43m=\u001b[39;49m\u001b[38;5;124;43m\"\u001b[39;49m\u001b[38;5;124;43mmargin\u001b[39;49m\u001b[38;5;124;43m\"\u001b[39;49m\u001b[43m \u001b[49m\u001b[38;5;28;43;01mif\u001b[39;49;00m\u001b[43m \u001b[49m\u001b[43moutput_margin\u001b[49m\u001b[43m \u001b[49m\u001b[38;5;28;43;01melse\u001b[39;49;00m\u001b[43m \u001b[49m\u001b[38;5;124;43m\"\u001b[39;49m\u001b[38;5;124;43mvalue\u001b[39;49m\u001b[38;5;124;43m\"\u001b[39;49m\u001b[43m,\u001b[49m\n\u001b[1;32m   1118\u001b[0m \u001b[43m            \u001b[49m\u001b[43mmissing\u001b[49m\u001b[38;5;241;43m=\u001b[39;49m\u001b[38;5;28;43mself\u001b[39;49m\u001b[38;5;241;43m.\u001b[39;49m\u001b[43mmissing\u001b[49m\u001b[43m,\u001b[49m\n\u001b[1;32m   1119\u001b[0m \u001b[43m            \u001b[49m\u001b[43mbase_margin\u001b[49m\u001b[38;5;241;43m=\u001b[39;49m\u001b[43mbase_margin\u001b[49m\u001b[43m,\u001b[49m\n\u001b[1;32m   1120\u001b[0m \u001b[43m            \u001b[49m\u001b[43mvalidate_features\u001b[49m\u001b[38;5;241;43m=\u001b[39;49m\u001b[43mvalidate_features\u001b[49m\u001b[43m,\u001b[49m\n\u001b[1;32m   1121\u001b[0m \u001b[43m        \u001b[49m\u001b[43m)\u001b[49m\n\u001b[1;32m   1122\u001b[0m         \u001b[38;5;28;01mif\u001b[39;00m _is_cupy_array(predts):\n\u001b[1;32m   1123\u001b[0m             \u001b[38;5;28;01mimport\u001b[39;00m \u001b[38;5;21;01mcupy\u001b[39;00m  \u001b[38;5;66;03m# pylint: disable=import-error\u001b[39;00m\n",
      "File \u001b[0;32m~/miniforge3/lib/python3.10/site-packages/xgboost/core.py:2292\u001b[0m, in \u001b[0;36mBooster.inplace_predict\u001b[0;34m(self, data, iteration_range, predict_type, missing, validate_features, base_margin, strict_shape)\u001b[0m\n\u001b[1;32m   2288\u001b[0m     \u001b[38;5;28;01mfrom\u001b[39;00m \u001b[38;5;21;01m.\u001b[39;00m\u001b[38;5;21;01mdata\u001b[39;00m \u001b[38;5;28;01mimport\u001b[39;00m _ensure_np_dtype\n\u001b[1;32m   2290\u001b[0m     data, _ \u001b[38;5;241m=\u001b[39m _ensure_np_dtype(data, data\u001b[38;5;241m.\u001b[39mdtype)\n\u001b[1;32m   2291\u001b[0m     _check_call(\n\u001b[0;32m-> 2292\u001b[0m         \u001b[43m_LIB\u001b[49m\u001b[38;5;241;43m.\u001b[39;49m\u001b[43mXGBoosterPredictFromDense\u001b[49m\u001b[43m(\u001b[49m\n\u001b[1;32m   2293\u001b[0m \u001b[43m            \u001b[49m\u001b[38;5;28;43mself\u001b[39;49m\u001b[38;5;241;43m.\u001b[39;49m\u001b[43mhandle\u001b[49m\u001b[43m,\u001b[49m\n\u001b[1;32m   2294\u001b[0m \u001b[43m            \u001b[49m\u001b[43m_array_interface\u001b[49m\u001b[43m(\u001b[49m\u001b[43mdata\u001b[49m\u001b[43m)\u001b[49m\u001b[43m,\u001b[49m\n\u001b[1;32m   2295\u001b[0m \u001b[43m            \u001b[49m\u001b[43mfrom_pystr_to_cstr\u001b[49m\u001b[43m(\u001b[49m\u001b[43mjson\u001b[49m\u001b[38;5;241;43m.\u001b[39;49m\u001b[43mdumps\u001b[49m\u001b[43m(\u001b[49m\u001b[43margs\u001b[49m\u001b[43m)\u001b[49m\u001b[43m)\u001b[49m\u001b[43m,\u001b[49m\n\u001b[1;32m   2296\u001b[0m \u001b[43m            \u001b[49m\u001b[43mp_handle\u001b[49m\u001b[43m,\u001b[49m\n\u001b[1;32m   2297\u001b[0m \u001b[43m            \u001b[49m\u001b[43mctypes\u001b[49m\u001b[38;5;241;43m.\u001b[39;49m\u001b[43mbyref\u001b[49m\u001b[43m(\u001b[49m\u001b[43mshape\u001b[49m\u001b[43m)\u001b[49m\u001b[43m,\u001b[49m\n\u001b[1;32m   2298\u001b[0m \u001b[43m            \u001b[49m\u001b[43mctypes\u001b[49m\u001b[38;5;241;43m.\u001b[39;49m\u001b[43mbyref\u001b[49m\u001b[43m(\u001b[49m\u001b[43mdims\u001b[49m\u001b[43m)\u001b[49m\u001b[43m,\u001b[49m\n\u001b[1;32m   2299\u001b[0m \u001b[43m            \u001b[49m\u001b[43mctypes\u001b[49m\u001b[38;5;241;43m.\u001b[39;49m\u001b[43mbyref\u001b[49m\u001b[43m(\u001b[49m\u001b[43mpreds\u001b[49m\u001b[43m)\u001b[49m\u001b[43m,\u001b[49m\n\u001b[1;32m   2300\u001b[0m \u001b[43m        \u001b[49m\u001b[43m)\u001b[49m\n\u001b[1;32m   2301\u001b[0m     )\n\u001b[1;32m   2302\u001b[0m     \u001b[38;5;28;01mreturn\u001b[39;00m _prediction_output(shape, dims, preds, \u001b[38;5;28;01mFalse\u001b[39;00m)\n\u001b[1;32m   2303\u001b[0m \u001b[38;5;28;01mif\u001b[39;00m \u001b[38;5;28misinstance\u001b[39m(data, scipy\u001b[38;5;241m.\u001b[39msparse\u001b[38;5;241m.\u001b[39mcsr_matrix):\n",
      "\u001b[0;31mKeyboardInterrupt\u001b[0m: "
     ]
    }
   ],
   "source": [
    "att_shap, dist_shap = shapley.shapley_int_distribution(regr.predict,X_test[0],X_test[1])"
   ]
  },
  {
   "cell_type": "code",
   "execution_count": 138,
   "id": "c47411a7",
   "metadata": {},
   "outputs": [
    {
     "data": {
      "text/plain": [
       "{0: array([-4.21986494]),\n",
       " 1: array([-5.0477326]),\n",
       " 2: array([29.92816844]),\n",
       " 3: array([-1.39081914]),\n",
       " 4: array([16.66639054]),\n",
       " 5: array([42.18138602]),\n",
       " 6: array([36.15785636])}"
      ]
     },
     "execution_count": 138,
     "metadata": {},
     "output_type": "execute_result"
    }
   ],
   "source": [
    "att_shap"
   ]
  },
  {
   "cell_type": "code",
   "execution_count": 139,
   "id": "92b75c63",
   "metadata": {},
   "outputs": [],
   "source": [
    "att_gately, dist_gately = gately.Gately_distribution(datas[0],datas[1],f_simple)"
   ]
  },
  {
   "cell_type": "code",
   "execution_count": 140,
   "id": "eec7970f",
   "metadata": {},
   "outputs": [
    {
     "data": {
      "text/plain": [
       "{0: array([-4.21986494]),\n",
       " 1: array([-5.0477326]),\n",
       " 2: array([29.92816844]),\n",
       " 3: array([-1.39081914]),\n",
       " 4: array([16.66639054]),\n",
       " 5: array([42.18138602]),\n",
       " 6: array([36.15785636])}"
      ]
     },
     "execution_count": 140,
     "metadata": {},
     "output_type": "execute_result"
    }
   ],
   "source": [
    "att_gately"
   ]
  },
  {
   "cell_type": "code",
   "execution_count": 141,
   "id": "09e35c26",
   "metadata": {},
   "outputs": [],
   "source": [
    "matches = 0\n",
    "distributions_shap = []\n",
    "distributions_gately = []\n",
    "for ind in range(0,10):\n",
    "    att_shap, dist_shap = shapley.shapley_int_distribution(f_simple,datas[ind],datas[ind+1])\n",
    "    att_gately, dist_gately = gately.Gately_distribution(datas[ind],datas[ind+1],f_simple)\n",
    "\n",
    "    tick = 0\n",
    "    for i,j in zip(att_shap.values(),att_gately.values()):\n",
    "        if round(i[0],2) != round(j[0],2):\n",
    "            tick = 1\n",
    "    if tick == 0:\n",
    "        matches += 1\n",
    "    \n",
    "    distributions_shap.append(dist_shap)\n",
    "    distributions_gately.append(dist_gately)\n",
    "        \n",
    "distributions_shap = np.asarray(distributions_shap)\n",
    "distributions_gately = np.asarray(distributions_gately)\n",
    "distributions_shap = distributions_shap.reshape(-1,distributions_shap.shape[2])\n",
    "distributions_gately = distributions_gately.reshape(-1,distributions_gately.shape[2])"
   ]
  },
  {
   "cell_type": "code",
   "execution_count": 142,
   "id": "210ac1c4",
   "metadata": {},
   "outputs": [
    {
     "name": "stdout",
     "output_type": "stream",
     "text": [
      "1.0\n"
     ]
    }
   ],
   "source": [
    "print(matches/10)"
   ]
  },
  {
   "cell_type": "code",
   "execution_count": 143,
   "id": "ac85f022",
   "metadata": {},
   "outputs": [],
   "source": [
    "scores_gately = []\n",
    "scores_shap = []\n",
    "\n",
    "for i in range(1,20):\n",
    "    X = np.concatenate([distributions_gately,datas[0:140]])\n",
    "    Y = np.concatenate([np.zeros(140),np.ones(140)])\n",
    "    from sklearn.ensemble import RandomForestClassifier\n",
    "    from sklearn.model_selection import train_test_split\n",
    "\n",
    "    X_train, X_test, y_train, y_test = train_test_split(X, Y, test_size=0.2)\n",
    "\n",
    "    regr = RandomForestClassifier(max_depth=i, random_state=0)\n",
    "    regr.fit(X_train, y_train)\n",
    "    scores_gately.append(regr.score(X_test,y_test))\n",
    "\n",
    "    X = np.concatenate([distributions_shap[0:140],datas[0:140]])\n",
    "    Y = np.concatenate([np.zeros(140),np.ones(140)])\n",
    "\n",
    "    X_train, X_test, y_train, y_test = train_test_split(X, Y, test_size=0.2)\n",
    "\n",
    "    regr = RandomForestClassifier(max_depth=i, random_state=0)\n",
    "    regr.fit(X_train, y_train)\n",
    "    scores_shap.append(regr.score(X_test,y_test))\n"
   ]
  },
  {
   "cell_type": "code",
   "execution_count": 147,
   "id": "3d52e621",
   "metadata": {},
   "outputs": [
    {
     "data": {
      "image/png": "[encoded data removed]",
      "text/plain": [
       "<Figure size 640x480 with 1 Axes>"
      ]
     },
     "metadata": {},
     "output_type": "display_data"
    }
   ],
   "source": [
    "import matplotlib.pyplot as plt\n",
    "\n",
    "depth = np.arange(1,20)\n",
    "plt.plot(depth, scores_gately)\n",
    "plt.plot(depth, scores_shap)\n",
    "plt.xlabel('Maximum Depth')\n",
    "plt.ylabel('Random Forest Model Accuracy')\n",
    "\n",
    "plt.savefig('distribution.pdf')"
   ]
  },
  {
   "cell_type": "code",
   "execution_count": 145,
   "id": "b9ab2995",
   "metadata": {},
   "outputs": [
    {
     "data": {
      "text/plain": [
       "0.9821428571428571"
      ]
     },
     "execution_count": 145,
     "metadata": {},
     "output_type": "execute_result"
    }
   ],
   "source": [
    "X = np.concatenate([distributions_shap[0:140],datas[0:140]])\n",
    "Y = np.concatenate([np.zeros(140),np.ones(140)])\n",
    "from sklearn.ensemble import RandomForestClassifier\n",
    "from sklearn.model_selection import train_test_split\n",
    "\n",
    "X_train, X_test, y_train, y_test = train_test_split(X, Y, test_size=0.2)\n",
    "\n",
    "regr = RandomForestClassifier(max_depth=1, random_state=0)\n",
    "regr.fit(X_train, y_train)\n",
    "regr.score(X_test,y_test)"
   ]
  },
  {
   "cell_type": "code",
   "execution_count": null,
   "id": "d92476e5",
   "metadata": {},
   "outputs": [],
   "source": []
  }
 ],
 "metadata": {
  "kernelspec": {
   "display_name": "Python 3 (ipykernel)",
   "language": "python",
   "name": "python3"
  },
  "language_info": {
   "codemirror_mode": {
    "name": "ipython",
    "version": 3
   },
   "file_extension": ".py",
   "mimetype": "text/x-python",
   "name": "python",
   "nbconvert_exporter": "python",
   "pygments_lexer": "ipython3",
   "version": "3.10.6"
  }
 },
 "nbformat": 4,
 "nbformat_minor": 5
}
