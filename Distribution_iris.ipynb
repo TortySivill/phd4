{
 "cells": [
  {
   "cell_type": "code",
   "execution_count": 51,
   "id": "797cc1c7",
   "metadata": {},
   "outputs": [],
   "source": [
    "import gately\n",
    "import shapley\n",
    "import numpy as np\n",
    "import random\n",
    "import timeit\n",
    "import shap"
   ]
  },
  {
   "cell_type": "code",
   "execution_count": 52,
   "id": "dd6ef074",
   "metadata": {},
   "outputs": [],
   "source": [
    "#X, y = shap.datasets.nhanesi()"
   ]
  },
  {
   "cell_type": "code",
   "execution_count": 53,
   "id": "8386503f",
   "metadata": {},
   "outputs": [],
   "source": [
    "X, y = shap.datasets.iris()\n",
    "X = X.values"
   ]
  },
  {
   "cell_type": "code",
   "execution_count": 54,
   "id": "5cb6f194",
   "metadata": {},
   "outputs": [
    {
     "data": {
      "text/plain": [
       "(150, 4)"
      ]
     },
     "execution_count": 54,
     "metadata": {},
     "output_type": "execute_result"
    }
   ],
   "source": [
    "X.shape"
   ]
  },
  {
   "cell_type": "code",
   "execution_count": 55,
   "id": "f96e83ff",
   "metadata": {},
   "outputs": [
    {
     "data": {
      "text/plain": [
       "0.8561962857258385"
      ]
     },
     "execution_count": 55,
     "metadata": {},
     "output_type": "execute_result"
    }
   ],
   "source": [
    "from sklearn.ensemble import RandomForestRegressor\n",
    "from sklearn.model_selection import train_test_split\n",
    "import xgboost\n",
    "\n",
    "X_train, X_test, y_train, y_test = train_test_split(X, y, test_size=0.5)\n",
    "\n",
    "regr = xgboost.XGBRegressor().fit(X_train, y_train)\n",
    "regr.fit(X_train, y_train)\n",
    "regr.score(X_test,y_test)"
   ]
  },
  {
   "cell_type": "code",
   "execution_count": 56,
   "id": "45b576e6",
   "metadata": {},
   "outputs": [
    {
     "data": {
      "text/plain": [
       "(75, 4)"
      ]
     },
     "execution_count": 56,
     "metadata": {},
     "output_type": "execute_result"
    }
   ],
   "source": [
    "X_train.shape"
   ]
  },
  {
   "cell_type": "code",
   "execution_count": 57,
   "id": "09e35c26",
   "metadata": {},
   "outputs": [],
   "source": [
    "matches = 0\n",
    "\n",
    "for ind in range(0,20):\n",
    "    #explainer = shap.KernelExplainer(regr.predict, X_test[ind+1].reshape(1,-1))\n",
    "    #shap_values = explainer.shap_values(X_test[ind].reshape(1,-1), nsamples=100)\n",
    "    att_gately, dist_gately = gately.Gately_distribution(X_test[ind],X_test[ind+1],regr.predict)\n",
    "\n",
    "    \"\"\"att_shap = {}\n",
    "    for i in range(0,X.shape[1]):\n",
    "        att_shap[i] = np.abs(shap_values[0][i])\n",
    "    \n",
    "    ks_sorted = sorted(att_shap, key=att_shap.get, reverse=True)\n",
    "    gate_sorted = sorted(att_gately, key=att_gately.get, reverse=True)\n",
    "    tick = 0\n",
    "    \n",
    " \n",
    "\n",
    "    for i,j in zip(ks_sorted,gate_sorted):\n",
    " \n",
    "        if i != j:\n",
    "            tick = 1\n",
    "    if tick == 0:\n",
    "        matches += 1\"\"\"\n",
    "    \n",
    "    #distributions_shap.append(dist_shap)\n",
    "    #distributions_gately.append(dist_gately)\n",
    "        \n",
    "#distributions_shap = np.asarray(distributions_shap)\n",
    "#distributions_gately = np.asarray(distributions_gately)\n",
    "#print(distributions_shap.shape)\n",
    "#distributions_shap = distributions_shap.reshape(-1,distributions_shap.shape[2])\n",
    "# = distributions_gately.reshape(-1,distributions_gately.shape[2])"
   ]
  },
  {
   "cell_type": "code",
   "execution_count": 58,
   "id": "dbf114c2",
   "metadata": {},
   "outputs": [],
   "source": [
    "distributions_shap = []\n",
    "for _ in range(0,1000):\n",
    "    i = np.random.randint(0,X.shape[0]-1)\n",
    "    sample = X[i].copy()\n",
    "    ref = X[i+1]\n",
    "    \n",
    "    number_inds = int(np.random.uniform(1,X.shape[1]-1))\n",
    "    \n",
    "    selected_indexes = []\n",
    "    for ind in range(0,number_inds):\n",
    "        selected_indexes.append(int(np.random.uniform(0,X.shape[1])))\n",
    "    \n",
    "    sample[selected_indexes] = ref[selected_indexes]\n",
    "    distributions_shap.append(sample)\n",
    "distributions_shap = np.asarray(distributions_shap)"
   ]
  },
  {
   "cell_type": "code",
   "execution_count": 59,
   "id": "bde7d237",
   "metadata": {},
   "outputs": [],
   "source": [
    "\n",
    "distributions_gately = []\n",
    "for _ in range(0,1000):\n",
    "    \n",
    "    number_inds = int(np.random.randint(0,2))\n",
    "    i = np.random.randint(0,X.shape[0]-1)\n",
    "    if number_inds == 0:\n",
    "        selected_ind =  int(np.random.uniform(0,X.shape[1]))\n",
    "        sample = X[i].copy()\n",
    "        ref = X[i+1]\n",
    "        sample[selected_ind] = ref[selected_ind]\n",
    "        distributions_gately.append(sample)\n",
    "    elif number_inds == 1:\n",
    "        selected_ind =  int(np.random.uniform(0,X.shape[1]))\n",
    "        sample = X[i+1].copy()\n",
    "        ref = X[i]\n",
    "        sample[selected_ind] = ref[selected_ind]\n",
    "        distributions_gately.append(sample)\n",
    "                      \n",
    "distributions_gately = np.asarray(distributions_gately)\n"
   ]
  },
  {
   "cell_type": "code",
   "execution_count": 60,
   "id": "685b7448",
   "metadata": {},
   "outputs": [
    {
     "data": {
      "text/plain": [
       "(150, 4)"
      ]
     },
     "execution_count": 60,
     "metadata": {},
     "output_type": "execute_result"
    }
   ],
   "source": [
    "samples = X.copy()\n",
    "samples.shape"
   ]
  },
  {
   "cell_type": "code",
   "execution_count": 88,
   "id": "ac85f022",
   "metadata": {},
   "outputs": [],
   "source": [
    "scores_gately = []\n",
    "scores_shap = []\n",
    "\n",
    "for i in range(0,10):\n",
    "    X = np.concatenate([distributions_gately[0:100],samples[0:100]])\n",
    "    Y = np.concatenate([np.zeros(100),np.ones(100)])\n",
    "    from sklearn.ensemble import RandomForestClassifier\n",
    "    from sklearn.model_selection import train_test_split\n",
    "\n",
    "    X_train, X_test, y_train, y_test = train_test_split(X, Y, test_size=0.3)\n",
    "\n",
    "    regr = RandomForestClassifier(n_estimators=100, max_depth=10)\n",
    "    regr.fit(X_train, y_train)\n",
    "    scores_gately.append(regr.score(X_test,y_test))\n",
    "\n",
    "    X = np.concatenate([distributions_shap[0:100],samples[0:100]])\n",
    "    Y = np.concatenate([np.zeros(100),np.ones(100)])\n",
    "\n",
    "    X_train, X_test, y_train, y_test = train_test_split(X, Y, test_size=0.3)\n",
    "\n",
    "    regr = RandomForestClassifier(n_estimators=100, max_depth=10)\n",
    "    regr.fit(X_train, y_train)\n",
    "    scores_shap.append(regr.score(X_test,y_test))\n"
   ]
  },
  {
   "cell_type": "code",
   "execution_count": 89,
   "id": "d92476e5",
   "metadata": {},
   "outputs": [
    {
     "data": {
      "text/plain": [
       "0.5349999999999999"
      ]
     },
     "execution_count": 89,
     "metadata": {},
     "output_type": "execute_result"
    }
   ],
   "source": [
    "np.mean(scores_gately)"
   ]
  },
  {
   "cell_type": "code",
   "execution_count": 90,
   "id": "898cb842",
   "metadata": {},
   "outputs": [
    {
     "data": {
      "text/plain": [
       "0.5633333333333332"
      ]
     },
     "execution_count": 90,
     "metadata": {},
     "output_type": "execute_result"
    }
   ],
   "source": [
    "np.mean(scores_shap)"
   ]
  },
  {
   "cell_type": "code",
   "execution_count": null,
   "id": "94ff5cd0",
   "metadata": {},
   "outputs": [],
   "source": []
  }
 ],
 "metadata": {
  "kernelspec": {
   "display_name": "Python 3 (ipykernel)",
   "language": "python",
   "name": "python3"
  },
  "language_info": {
   "codemirror_mode": {
    "name": "ipython",
    "version": 3
   },
   "file_extension": ".py",
   "mimetype": "text/x-python",
   "name": "python",
   "nbconvert_exporter": "python",
   "pygments_lexer": "ipython3",
   "version": "3.10.6"
  }
 },
 "nbformat": 4,
 "nbformat_minor": 5
}
